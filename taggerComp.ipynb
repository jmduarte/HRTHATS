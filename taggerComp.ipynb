{
 "cells": [
  {
   "cell_type": "markdown",
   "metadata": {},
   "source": [
    "# Signal files\n",
    "First let's look at the available signal files"
   ]
  },
  {
   "cell_type": "code",
   "execution_count": 3,
   "metadata": {
    "scrolled": true
   },
   "outputs": [
    {
     "name": "stdout",
     "output_type": "stream",
     "text": [
      "/eos/uscms/store/group/lpcjme/noreplica/NanoHRT/Trees/Apr08/forMCComparions/reweighted/BulkGravToZZ_tree.root\n",
      "/eos/uscms/store/group/lpcjme/noreplica/NanoHRT/Trees/Apr08/forMCComparions/reweighted/BulkGravTohh_tree.root\n",
      "/eos/uscms/store/group/lpcjme/noreplica/NanoHRT/Trees/Apr08/forMCComparions/reweighted/ZprimeToTT_tree.root\n",
      "/eos/uscms/store/group/lpcjme/noreplica/NanoHRT/Trees/Apr08/forMCComparions/reweighted/ZprimeToWW_tree.root\n",
      "/eos/uscms/store/group/lpcjme/noreplica/NanoHRT/Trees/Apr08/forMCComparions/reweighted/qcd-pythia_tree.root\n"
     ]
    }
   ],
   "source": [
    "%%bash \n",
    "export XrdSecGSISRVNAMES=cmseos.fnal.gov\n",
    "xrdfs root://cmseos.fnal.gov/ ls /eos/uscms/store/group/lpcjme/noreplica/NanoHRT/Trees/Apr08/forMCComparions/reweighted/"
   ]
  },
  {
   "cell_type": "markdown",
   "metadata": {},
   "source": [
    "# Open signal files and inspect tree\n",
    "Let's open the one signal file and one background file and print the contents of the tree"
   ]
  },
  {
   "cell_type": "code",
   "execution_count": 2,
   "metadata": {},
   "outputs": [
    {
     "name": "stdout",
     "output_type": "stream",
     "text": [
      "Welcome to JupyROOT 6.12/07\n"
     ]
    }
   ],
   "source": [
    "import ROOT as rt\n",
    "\n",
    "filename_hh = 'root://cmseos.fnal.gov//eos/uscms/store/group/lpcjme/noreplica/NanoHRT/Trees/Apr08/forMCComparions/reweighted/BulkGravTohh_tree.root'\n",
    "filename_qcd = 'root://cmseos.fnal.gov//eos/uscms/store/group/lpcjme/noreplica/NanoHRT/Trees/Apr08/forMCComparions/reweighted/qcd-pythia_tree.root'\n",
    "\n",
    "file_hh = rt.TFile.Open(filename_hh)\n",
    "file_qcd = rt.TFile.Open(filename_qcd)\n",
    "\n",
    "tree_hh = file_hh.Get('Friends')\n",
    "tree_qcd = file_qcd.Get('Friends')\n",
    "tree_hh.Print()"
   ]
  },
  {
   "cell_type": "markdown",
   "metadata": {},
   "source": [
    "# Plot tagger distributions\n",
    "Let's plot each of the different discriminatig variables distributions "
   ]
  },
  {
   "cell_type": "code",
   "execution_count": 4,
   "metadata": {},
   "outputs": [
    {
     "data": {
      "text/html": [
       "\n",
       "<div id=\"root_plot_1\"\n",
       "     style=\"width: 496px; height: 372px\">\n",
       "</div>\n",
       "\n",
       "<script>\n",
       " requirejs.config({\n",
       "     paths: {\n",
       "       'JSRootCore' : 'https://root.cern.ch/js/notebook//scripts/JSRootCore',\n",
       "     }\n",
       "   });\n",
       " require(['JSRootCore'],\n",
       "     function(Core) {\n",
       "       var obj = Core.JSONR_unref({\"_typename\":\"TCanvas\",\"fUniqueID\":0,\"fBits\":53673992,\"fLineColor\":1,\"fLineStyle\":1,\"fLineWidth\":1,\"fFillColor\":0,\"fFillStyle\":1001,\"fLeftMargin\":0.1,\"fRightMargin\":0.1,\"fBottomMargin\":0.1,\"fTopMargin\":0.1,\"fXfile\":2,\"fYfile\":2,\"fAfile\":1,\"fXstat\":0.99,\"fYstat\":0.99,\"fAstat\":2,\"fFrameFillColor\":0,\"fFrameLineColor\":1,\"fFrameFillStyle\":1001,\"fFrameLineStyle\":1,\"fFrameLineWidth\":1,\"fFrameBorderSize\":1,\"fFrameBorderMode\":0,\"fX1\":83.7499995343387,\"fY1\":-3.4773613242043e-4,\"fX2\":146.250000465661,\"fY2\":0.0204660927069622,\"fXtoAbsPixelk\":-664.639936400604,\"fXtoPixelk\":-664.639936400604,\"fXtoPixel\":7.93599988174438,\"fYtoAbsPixelk\":365.785055043587,\"fYtoPixelk\":365.785055043587,\"fYtoPixel\":-17872.7327331589,\"fUtoAbsPixelk\":5e-5,\"fUtoPixelk\":5e-5,\"fUtoPixel\":496,\"fVtoAbsPixelk\":372.00005,\"fVtoPixelk\":372,\"fVtoPixel\":-372,\"fAbsPixeltoXk\":83.7499995343387,\"fPixeltoXk\":83.7499995343387,\"fPixeltoX\":0.126008066393796,\"fAbsPixeltoYk\":0.0204660927069622,\"fPixeltoYk\":-3.4773613242043e-4,\"fPixeltoY\":-5.59511527940393e-5,\"fXlowNDC\":0,\"fYlowNDC\":0,\"fXUpNDC\":0,\"fYUpNDC\":0,\"fWNDC\":1,\"fHNDC\":1,\"fAbsXlowNDC\":0,\"fAbsYlowNDC\":0,\"fAbsWNDC\":1,\"fAbsHNDC\":1,\"fUxmin\":90,\"fUymin\":0.00173364687557793,\"fUxmax\":140,\"fUymax\":0.0183847096989638,\"fTheta\":30,\"fPhi\":30,\"fAspectRatio\":0,\"fNumber\":0,\"fTickx\":0,\"fTicky\":0,\"fLogx\":0,\"fLogy\":0,\"fLogz\":0,\"fPadPaint\":0,\"fCrosshair\":0,\"fCrosshairPos\":0,\"fBorderSize\":2,\"fBorderMode\":0,\"fModified\":false,\"fGridx\":false,\"fGridy\":false,\"fAbsCoord\":false,\"fEditable\":true,\"fFixedAspectRatio\":false,\"fPrimitives\":{\"_typename\":\"TList\",\"name\":\"TList\",\"arr\":[{\"_typename\":\"TFrame\",\"fUniqueID\":0,\"fBits\":50331656,\"fLineColor\":1,\"fLineStyle\":1,\"fLineWidth\":1,\"fFillColor\":0,\"fFillStyle\":1001,\"fX1\":90,\"fY1\":0.00173364687557793,\"fX2\":140,\"fY2\":0.0183847096989638,\"fBorderSize\":1,\"fBorderMode\":0},{\"_typename\":\"TH1D\",\"fUniqueID\":0,\"fBits\":50331656,\"fName\":\"hist_hh\",\"fTitle\":\"hist_hh\",\"fLineColor\":632,\"fLineStyle\":1,\"fLineWidth\":1,\"fFillColor\":0,\"fFillStyle\":1001,\"fMarkerColor\":1,\"fMarkerStyle\":1,\"fMarkerSize\":1,\"fNcells\":102,\"fXaxis\":{\"_typename\":\"TAxis\",\"fUniqueID\":0,\"fBits\":50331648,\"fName\":\"xaxis\",\"fTitle\":\"\",\"fNdivisions\":510,\"fAxisColor\":1,\"fLabelColor\":1,\"fLabelFont\":42,\"fLabelOffset\":0.005,\"fLabelSize\":0.035,\"fTickLength\":0.03,\"fTitleOffset\":1,\"fTitleSize\":0.035,\"fTitleColor\":1,\"fTitleFont\":42,\"fNbins\":100,\"fXmin\":90,\"fXmax\":140,\"fXbins\":[],\"fFirst\":0,\"fLast\":0,\"fBits2\":0,\"fTimeDisplay\":false,\"fTimeFormat\":\"\",\"fLabels\":null,\"fModLabs\":null},\"fYaxis\":{\"_typename\":\"TAxis\",\"fUniqueID\":0,\"fBits\":50331648,\"fName\":\"yaxis\",\"fTitle\":\"\",\"fNdivisions\":510,\"fAxisColor\":1,\"fLabelColor\":1,\"fLabelFont\":42,\"fLabelOffset\":0.005,\"fLabelSize\":0.035,\"fTickLength\":0.03,\"fTitleOffset\":0,\"fTitleSize\":0.035,\"fTitleColor\":1,\"fTitleFont\":42,\"fNbins\":1,\"fXmin\":0,\"fXmax\":1,\"fXbins\":[],\"fFirst\":0,\"fLast\":0,\"fBits2\":0,\"fTimeDisplay\":false,\"fTimeFormat\":\"\",\"fLabels\":null,\"fModLabs\":null},\"fZaxis\":{\"_typename\":\"TAxis\",\"fUniqueID\":0,\"fBits\":50331648,\"fName\":\"zaxis\",\"fTitle\":\"\",\"fNdivisions\":510,\"fAxisColor\":1,\"fLabelColor\":1,\"fLabelFont\":42,\"fLabelOffset\":0.005,\"fLabelSize\":0.035,\"fTickLength\":0.03,\"fTitleOffset\":1,\"fTitleSize\":0.035,\"fTitleColor\":1,\"fTitleFont\":42,\"fNbins\":1,\"fXmin\":0,\"fXmax\":1,\"fXbins\":[],\"fFirst\":0,\"fLast\":0,\"fBits2\":0,\"fTimeDisplay\":false,\"fTimeFormat\":\"\",\"fLabels\":null,\"fModLabs\":null},\"fBarOffset\":0,\"fBarWidth\":1000,\"fEntries\":135638,\"fTsumw\":176.790157163385,\"fTsumw2\":0.382106393039562,\"fTsumwx\":20527.6087438422,\"fTsumwx2\":2407281.2713656,\"fMaximum\":-1111,\"fMinimum\":-1111,\"fNormFactor\":0,\"fContour\":[],\"fSumw2\":[0,4.58513483328025e-8,5.12987863684467e-8,5.08115482063006e-8,5.41283384499034e-8,5.72515713271732e-8,5.62554442591377e-8,5.75136345130596e-8,6.75422574882945e-8,5.87073158837073e-8,5.63984573633829e-8,6.35634585416896e-8,6.97750171315082e-8,6.8174207466114e-8,7.46391484377123e-8,7.29728320355938e-8,7.45003252353234e-8,7.30192697109507e-8,8.01774411573711e-8,8.93350582231153e-8,9.31174235310343e-8,8.93146449720449e-8,9.10819222568283e-8,9.83215588147749e-8,9.55501702003193e-8,8.7893291979979e-8,9.19878246364487e-8,9.43736486476413e-8,1.13214125905992e-7,1.07742504273033e-7,1.07470511891243e-7,1.13761424253879e-7,1.18366541811248e-7,1.2493686642331e-7,1.26769638285365e-7,1.2305427882162e-7,1.29605791981812e-7,1.36614820889619e-7,1.35565836266249e-7,1.33006143091261e-7,1.50960544025324e-7,1.46515182242036e-7,1.59072720456647e-7,1.50992448840597e-7,1.5806953314862e-7,1.51498158431915e-7,1.56959709545177e-7,1.78147007512296e-7,1.6831072644796e-7,1.79351620602289e-7,1.90698401529369e-7,1.76871125459997e-7,1.85109083005367e-7,1.87905794905068e-7,1.95432551759313e-7,1.86969789868046e-7,2.00936878034321e-7,1.94747649216649e-7,1.95947899896808e-7,1.99835000687469e-7,2.14266393402247e-7,2.01901870003277e-7,2.07025556897288e-7,1.93216090414886e-7,1.86506258650235e-7,1.96401165933689e-7,1.99237523345281e-7,1.96861438246261e-7,1.8661633292512e-7,1.88802912802289e-7,1.83890517055785e-7,1.81885299998949e-7,1.68643125035745e-7,1.77478080277619e-7,1.71642449680492e-7,1.58818086435109e-7,1.57314754463084e-7,1.66739747793803e-7,1.61184294038312e-7,1.33054337400134e-7,1.38528888930644e-7,1.29276007255002e-7,1.39314939134026e-7,1.10700441349712e-7,1.12931629140839e-7,1.10058414411182e-7,9.71844092701423e-8,9.28253625946367e-8,8.67258572726627e-8,7.5172082635685e-8,7.36387961336082e-8,6.64542656210305e-8,5.80722271473515e-8,5.59389330167829e-8,4.86801098173549e-8,5.07724885669385e-8,4.79392303223081e-8,4.31916573143007e-8,3.89602630302218e-8,3.4411479313919e-8,3.5282540041697e-8,0],\"fOption\":\"\",\"fFunctions\":{\"_typename\":\"TList\",\"name\":\"TList\",\"arr\":[{\"_typename\":\"TPaveStats\",\"fUniqueID\":0,\"fBits\":50331657,\"fLineColor\":1,\"fLineStyle\":1,\"fLineWidth\":1,\"fFillColor\":0,\"fFillStyle\":1001,\"fX1\":132.500001266599,\"fY1\":0.0157829813421612,\"fX2\":145.000001639128,\"fY2\":0.0191131938820264,\"fX1NDC\":0.780000016093254,\"fY1NDC\":0.775000005960464,\"fX2NDC\":0.980000019073486,\"fY2NDC\":0.935000002384186,\"fBorderSize\":1,\"fInit\":1,\"fShadowColor\":1,\"fCornerRadius\":0,\"fOption\":\"brNDC\",\"fName\":\"stats\",\"fTextAngle\":0,\"fTextSize\":0,\"fTextAlign\":12,\"fTextColor\":1,\"fTextFont\":42,\"fLabel\":\"\",\"fLongest\":18,\"fMargin\":0.05,\"fLines\":{\"_typename\":\"TList\",\"name\":\"TList\",\"arr\":[{\"_typename\":\"TLatex\",\"fUniqueID\":0,\"fBits\":50331648,\"fName\":\"\",\"fTitle\":\"hist_hh\",\"fTextAngle\":0,\"fTextSize\":0.0368,\"fTextAlign\":0,\"fTextColor\":0,\"fTextFont\":0,\"fX\":0,\"fY\":0,\"fLineColor\":1,\"fLineStyle\":1,\"fLineWidth\":2,\"fLimitFactorSize\":3,\"fOriginSize\":0.0368000008165836},{\"_typename\":\"TLatex\",\"fUniqueID\":0,\"fBits\":50331648,\"fName\":\"\",\"fTitle\":\"Entries = 135638 \",\"fTextAngle\":0,\"fTextSize\":0,\"fTextAlign\":0,\"fTextColor\":0,\"fTextFont\":0,\"fX\":0,\"fY\":0,\"fLineColor\":1,\"fLineStyle\":1,\"fLineWidth\":2,\"fLimitFactorSize\":3,\"fOriginSize\":0.04},{\"_typename\":\"TLatex\",\"fUniqueID\":0,\"fBits\":50331648,\"fName\":\"\",\"fTitle\":\"Mean  =  116.1\",\"fTextAngle\":0,\"fTextSize\":0,\"fTextAlign\":0,\"fTextColor\":0,\"fTextFont\":0,\"fX\":0,\"fY\":0,\"fLineColor\":1,\"fLineStyle\":1,\"fLineWidth\":2,\"fLimitFactorSize\":3,\"fOriginSize\":0.04},{\"_typename\":\"TLatex\",\"fUniqueID\":0,\"fBits\":50331648,\"fName\":\"\",\"fTitle\":\"Std Dev   =  11.59\",\"fTextAngle\":0,\"fTextSize\":0,\"fTextAlign\":0,\"fTextColor\":0,\"fTextFont\":0,\"fX\":0,\"fY\":0,\"fLineColor\":1,\"fLineStyle\":1,\"fLineWidth\":2,\"fLimitFactorSize\":3,\"fOriginSize\":0.04}],\"opt\":[\"\",\"\",\"\",\"\"]},\"fOptFit\":0,\"fOptStat\":1111,\"fFitFormat\":\"5.4g\",\"fStatFormat\":\"6.4g\",\"fParent\":{\"$ref\":3}}],\"opt\":[\"brNDC\"]},\"fBufferSize\":0,\"fBuffer\":[],\"fBinStatErrOpt\":0,\"fStatOverflows\":2,\"fArray\":[0,0.00401074746795627,0.00432524155776014,0.00427889531806998,0.00459509871848558,0.00474648872618092,0.0046483524758818,0.00483507232996913,0.00547629183674433,0.00494982705311491,0.0049634237370644,0.00532124510655305,0.0058587066035535,0.00561744287057355,0.00619879753797059,0.0061970481662904,0.00628610901814801,0.00629595258080099,0.00679422499374643,0.00717999381583064,0.00745687082253521,0.00745204112032743,0.00755453451480873,0.00806544631943319,0.00812178242292593,0.00754961481708186,0.00785573051649568,0.00809370671538341,0.00926693110331997,0.008933891109562,0.00896138389171973,0.00936416575309777,0.00979428025039304,0.0105110501320304,0.010455250988382,0.0102626742453316,0.010848153841014,0.0111850879470373,0.0112279729347436,0.0113075724270814,0.0123290366954629,0.0122529968817428,0.0130608444359673,0.0127009004802779,0.013126580727899,0.012958800091839,0.0133108616425825,0.0146476849729518,0.0140340541879174,0.0147398268831379,0.0156001546418408,0.0150020860008182,0.0152899508164038,0.0155687167685128,0.0159293692278367,0.0153543000237912,0.0164272890549145,0.0158044737416372,0.0160975341153589,0.0163371584620912,0.0171289127649927,0.0165442820644368,0.0170139991789297,0.0158710544207253,0.0156909371146976,0.0160538926042222,0.016194402846816,0.0157183690157591,0.0153770822536043,0.0153397506748935,0.0149537206187944,0.0147334765553754,0.0138076574288379,0.0141748832506812,0.0137385035956135,0.0128767531119351,0.012666631875171,0.0128518263255861,0.012470071566524,0.0107972337689535,0.0109606320964693,0.0100495916622094,0.010833016411626,0.00881022246527925,0.00892214718642249,0.00855408365817741,0.00758237026585321,0.0070863073997917,0.00681500500403715,0.00601497784541457,0.00572058326655055,0.00518206765984126,0.00453037075353667,0.00445020674204846,0.00386669636223328,0.00390425232429742,0.00368671481716515,0.00324715825341182,0.0029459215325736,0.00267430043048634,0.00274021118564304,0]},{\"_typename\":\"TH1D\",\"fUniqueID\":0,\"fBits\":50331656,\"fName\":\"hist_qcd\",\"fTitle\":\"hist_qcd\",\"fLineColor\":600,\"fLineStyle\":1,\"fLineWidth\":1,\"fFillColor\":0,\"fFillStyle\":1001,\"fMarkerColor\":1,\"fMarkerStyle\":1,\"fMarkerSize\":1,\"fNcells\":102,\"fXaxis\":{\"_typename\":\"TAxis\",\"fUniqueID\":0,\"fBits\":50331648,\"fName\":\"xaxis\",\"fTitle\":\"\",\"fNdivisions\":510,\"fAxisColor\":1,\"fLabelColor\":1,\"fLabelFont\":42,\"fLabelOffset\":0.005,\"fLabelSize\":0.035,\"fTickLength\":0.03,\"fTitleOffset\":1,\"fTitleSize\":0.035,\"fTitleColor\":1,\"fTitleFont\":42,\"fNbins\":100,\"fXmin\":90,\"fXmax\":140,\"fXbins\":[],\"fFirst\":0,\"fLast\":0,\"fBits2\":0,\"fTimeDisplay\":false,\"fTimeFormat\":\"\",\"fLabels\":null,\"fModLabs\":null},\"fYaxis\":{\"_typename\":\"TAxis\",\"fUniqueID\":0,\"fBits\":50331648,\"fName\":\"yaxis\",\"fTitle\":\"\",\"fNdivisions\":510,\"fAxisColor\":1,\"fLabelColor\":1,\"fLabelFont\":42,\"fLabelOffset\":0.005,\"fLabelSize\":0.035,\"fTickLength\":0.03,\"fTitleOffset\":0,\"fTitleSize\":0.035,\"fTitleColor\":1,\"fTitleFont\":42,\"fNbins\":1,\"fXmin\":0,\"fXmax\":1,\"fXbins\":[],\"fFirst\":0,\"fLast\":0,\"fBits2\":0,\"fTimeDisplay\":false,\"fTimeFormat\":\"\",\"fLabels\":null,\"fModLabs\":null},\"fZaxis\":{\"_typename\":\"TAxis\",\"fUniqueID\":0,\"fBits\":50331648,\"fName\":\"zaxis\",\"fTitle\":\"\",\"fNdivisions\":510,\"fAxisColor\":1,\"fLabelColor\":1,\"fLabelFont\":42,\"fLabelOffset\":0.005,\"fLabelSize\":0.035,\"fTickLength\":0.03,\"fTitleOffset\":1,\"fTitleSize\":0.035,\"fTitleColor\":1,\"fTitleFont\":42,\"fNbins\":1,\"fXmin\":0,\"fXmax\":1,\"fXbins\":[],\"fFirst\":0,\"fLast\":0,\"fBits2\":0,\"fTimeDisplay\":false,\"fTimeFormat\":\"\",\"fLabels\":null,\"fModLabs\":null},\"fBarOffset\":0,\"fBarWidth\":1000,\"fEntries\":266912,\"fTsumw\":1.22403490802328e-6,\"fTsumw2\":7.86949121379091e-18,\"fTsumwx\":1.38897653902787e-4,\"fTsumwx2\":0.0160163796495198,\"fMaximum\":-1111,\"fMinimum\":-1111,\"fNormFactor\":0,\"fContour\":[],\"fSumw2\":[0,6.33806699886048e-8,6.38642906553713e-8,6.45622987760979e-8,6.20640543894675e-8,6.10722919872237e-8,6.45708143077258e-8,6.100760867825e-8,6.37946665168904e-8,6.06635316279338e-8,5.9222012024439e-8,6.27337456524874e-8,6.13594301300519e-8,5.85727570047914e-8,5.88406975070472e-8,5.84343139564095e-8,5.96669937259499e-8,5.76185479154262e-8,6.09262669859955e-8,6.05880850132363e-8,5.78926929743015e-8,5.71340693030258e-8,5.93247034859836e-8,5.53067294808929e-8,5.57337633493699e-8,5.46194459949739e-8,5.54360216538982e-8,5.62800819833627e-8,5.77391930697792e-8,5.77050123777311e-8,5.53120832478498e-8,5.49165922620216e-8,5.54876093885609e-8,5.51390696269123e-8,5.4949646933581e-8,5.53219987731308e-8,5.74757823184395e-8,5.22169741537763e-8,5.51302294981719e-8,5.54326741680209e-8,5.26412513698546e-8,5.55264195196159e-8,5.66993689452735e-8,5.58816142051479e-8,5.12354611488447e-8,5.26227104278724e-8,5.40569687025227e-8,5.36244226050157e-8,5.11850486074576e-8,5.25460041718857e-8,5.13568143878916e-8,5.02229223202149e-8,5.03034011928175e-8,5.06784329304611e-8,5.02645322614624e-8,4.94102497543805e-8,4.99638606044325e-8,4.96945448108851e-8,5.05748010002399e-8,5.34730845554015e-8,4.9565016616547e-8,4.97905377968811e-8,5.19826518321595e-8,4.88647755157716e-8,5.07571023731311e-8,4.97537675021693e-8,5.03619924517588e-8,4.92697934974067e-8,4.74565458796085e-8,5.06843213110305e-8,4.74685991069572e-8,4.75846428308542e-8,4.924053548986e-8,4.79348935851017e-8,4.92514521398168e-8,4.38557912103121e-8,4.71016900803881e-8,4.76802726892385e-8,4.72095433226698e-8,4.57887541934827e-8,4.84655059539752e-8,4.49266504405793e-8,4.78528323500932e-8,4.4920852465672e-8,4.56704555468696e-8,4.47814748717467e-8,4.56460708403451e-8,4.73202227200482e-8,4.44934963179566e-8,4.66462549028158e-8,4.76386359945425e-8,4.52908000742289e-8,4.65087518678369e-8,4.38175920877277e-8,4.31363762750208e-8,4.91665872780104e-8,4.63578517462579e-8,4.50803728219093e-8,4.42498494268951e-8,4.25754756348327e-8,4.28070254633109e-8,0],\"fOption\":\"\",\"fFunctions\":{\"_typename\":\"TList\",\"name\":\"TList\",\"arr\":[],\"opt\":[]},\"fBufferSize\":0,\"fBuffer\":[],\"fBinStatErrOpt\":0,\"fStatOverflows\":2,\"fArray\":[0,0.0121860122255976,0.0121112072298925,0.0124195610375257,0.0118544685603468,0.0115308316143175,0.0122703839145972,0.0116559263050863,0.0118784780651604,0.0115285750402025,0.011392148106639,0.0116761222670156,0.0117897209560593,0.0112884058198722,0.0113363537925439,0.0110914674629382,0.0113590980210549,0.0110281392107462,0.01148323836503,0.0113941910935255,0.0111207475239532,0.0109311081882355,0.0111522386638384,0.0106370280130435,0.0107383319563244,0.0104641452678743,0.0105086093088409,0.0107403874573285,0.0109367251887033,0.0109444803321033,0.0105243971462272,0.0106108293529145,0.0104988092366123,0.0104564118247288,0.010507584101801,0.0105604632672685,0.010720378632835,0.00994428780851497,0.0104841736228626,0.0105798442593504,0.010077158842749,0.0104705799715588,0.0106049726197731,0.010491939237107,0.0098869351875318,0.0100320494189943,0.0102271443117169,0.0101342508805144,0.00968911586076245,0.01002719530298,0.00984022933188288,0.00964712397162098,0.0096452108064472,0.00965347970999355,0.00957533738264334,0.00951358608047906,0.00967218478587163,0.009568510456447,0.00970746914795904,0.00997472648198231,0.00940635746212671,0.00938477087633707,0.00975984125760374,0.00939837007303509,0.00973236776133274,0.00957941503053039,0.00955108871532036,0.00944340520182889,0.00917793361920743,0.00940972974642547,0.00907208054357435,0.00918701240859979,0.00931376756911328,0.00908204673829732,0.00946927543601536,0.00860394098251636,0.00889590822822392,0.00901434310707717,0.00890199443852301,0.00887721665311237,0.00916406697916261,0.00861002693762775,0.00895406342584334,0.00861933042062639,0.00876939628461286,0.00859420019089409,0.00863335912788686,0.00879451462486616,0.00846295718417441,0.00882150097349766,0.00905250728160408,0.00866419649762613,0.00868331463823396,0.00836776345185648,0.00823527006449689,0.00926148806585162,0.00866500234077114,0.00856512690011503,0.00850616102965111,0.00826097288519251,0.00827940481608134,0]},{\"_typename\":\"TPaveText\",\"fUniqueID\":0,\"fBits\":50331657,\"fLineColor\":1,\"fLineStyle\":1,\"fLineWidth\":1,\"fFillColor\":0,\"fFillStyle\":0,\"fX1\":110.153729766495,\"fY1\":0.0191534787616621,\"fX2\":119.846270233505,\"fY2\":0.0203620236620134,\"fX1NDC\":0.422459677419355,\"fY1NDC\":0.936935488639339,\"fX2NDC\":0.577540322580645,\"fY2NDC\":0.995000004768372,\"fBorderSize\":0,\"fInit\":1,\"fShadowColor\":1,\"fCornerRadius\":0,\"fOption\":\"blNDC\",\"fName\":\"title\",\"fTextAngle\":0,\"fTextSize\":0,\"fTextAlign\":22,\"fTextColor\":1,\"fTextFont\":42,\"fLabel\":\"\",\"fLongest\":7,\"fMargin\":0.05,\"fLines\":{\"_typename\":\"TList\",\"name\":\"TList\",\"arr\":[{\"_typename\":\"TLatex\",\"fUniqueID\":0,\"fBits\":50331648,\"fName\":\"\",\"fTitle\":\"hist_hh\",\"fTextAngle\":0,\"fTextSize\":0,\"fTextAlign\":0,\"fTextColor\":0,\"fTextFont\":0,\"fX\":0,\"fY\":0,\"fLineColor\":1,\"fLineStyle\":1,\"fLineWidth\":2,\"fLimitFactorSize\":3,\"fOriginSize\":0.0493548400700092}],\"opt\":[\"\"]}}],\"opt\":[\"\",\"h\",\"hsame\",\"blNDC\"]},\"fExecs\":null,\"fName\":\"c\",\"fTitle\":\"c\",\"fNumPaletteColor\":0,\"fNextPaletteColor\":0,\"fDISPLAY\":\"$DISPLAY\",\"fDoubleBuffer\":0,\"fRetained\":true,\"fXsizeUser\":0,\"fYsizeUser\":0,\"fXsizeReal\":20,\"fYsizeReal\":16,\"fWindowTopX\":0,\"fWindowTopY\":0,\"fWindowWidth\":0,\"fWindowHeight\":0,\"fCw\":496,\"fCh\":372,\"fCatt\":{\"_typename\":\"TAttCanvas\",\"fXBetween\":2,\"fYBetween\":2,\"fTitleFromTop\":1.2,\"fXdate\":0.2,\"fYdate\":0.3,\"fAdate\":1},\"kMoveOpaque\":true,\"kResizeOpaque\":true,\"fHighLightColor\":2,\"fBatch\":true,\"kShowEventStatus\":false,\"kAutoExec\":true,\"kMenuBar\":true});\n",
       "       Core.draw(\"root_plot_1\", obj, \"\");\n",
       "     }\n",
       " );\n",
       "</script>\n"
      ],
      "text/plain": [
       "<IPython.core.display.HTML object>"
      ]
     },
     "metadata": {},
     "output_type": "display_data"
    }
   ],
   "source": [
    "%jsroot on\n",
    "\n",
    "tagger = 'ak8_sdmass'\n",
    "#tagger = 'ak8_tau21'\n",
    "#tagger = 'ak8_ecfN2'\n",
    "#tagger = 'ak8_doubleb'\n",
    "#tagger = 'ak8_nn_HbbvsQCD'\n",
    "#tagger = 'ak8_decorr_nn_ZHbbvsQCD'\n",
    "#tagger = 'ak8_bestH'\n",
    "\n",
    "cuts = 'gen_pt > 1000 && gen_pt < 1500 && abs(gen_eta) < 2.4 && ak8_sdmass > 90 && ak8_sdmass < 140'\n",
    "\n",
    "hist_hh = rt.TH1D('hist_hh','hist_hh',100,90,140)\n",
    "hist_qcd = rt.TH1D('hist_qcd','hist_qcd',100,90,140)\n",
    "tree_hh.Project('hist_hh',tagger,'rewgt*(%s)'%cuts)\n",
    "tree_qcd.Project('hist_qcd',tagger,'genweight*(%s)'%cuts)\n",
    "\n",
    "c = rt.TCanvas('c','c',500,400)\n",
    "hist_hh.Scale(1/hist_hh.Integral())\n",
    "hist_qcd.Scale(1/hist_qcd.Integral())\n",
    "hist_qcd.SetLineColor(rt.kBlue)\n",
    "hist_hh.SetLineColor(rt.kRed)\n",
    "if hist_qcd.GetMaximum() > hist_hh.GetMaximum():\n",
    "    hist_qcd.Draw('h')\n",
    "    hist_hh.Draw('hsame')\n",
    "else:\n",
    "    hist_hh.Draw('h')\n",
    "    hist_qcd.Draw('hsame')\n",
    "c.Draw()"
   ]
  },
  {
   "cell_type": "markdown",
   "metadata": {},
   "source": [
    "# Convert tree to dataframe with `uproot`\n",
    "Open the file with `uproot` and convert the tree to a `pandas` dataframe."
   ]
  },
  {
   "cell_type": "code",
   "execution_count": null,
   "metadata": {},
   "outputs": [],
   "source": [
    "import uproot\n",
    "!pip install lz4 --user\n",
    "uptree_hh = uproot.open(filename_hh)\n",
    "uptree_qcd = uproot.open(filename_qcd)\n",
    "branches = ['ak8_nn_HbbvsQCD',\n",
    "            'ak8_decorr_nn_ZHbbvsQCD',\n",
    "            'ak8_doubleb',\n",
    "            'ak8_tau21',\n",
    "            'ak8_ecfN2',\n",
    "            'ak8_bestH',\n",
    "            'ak8_sdmass',\n",
    "            'ak8_pt',\n",
    "            'ak8_eta',\n",
    "            'gen_pt',\n",
    "            'gen_eta']\n",
    "df_hh = uptree_hh.pandas.df(branches=branches+['rewgt'])\n",
    "df_qcd = uptree_qcd.pandas.df(branches=branches+['genweight'])"
   ]
  },
  {
   "cell_type": "markdown",
   "metadata": {},
   "source": [
    "# Apply cuts and merge dataframes\n",
    "Let's apply the same fiducial cuts and merge the signal and background dataframes"
   ]
  },
  {
   "cell_type": "code",
   "execution_count": null,
   "metadata": {},
   "outputs": [],
   "source": [
    "import pandas\n",
    "import numpy as np\n",
    "\n",
    "# mask higgs outside of fiducial cuts\n",
    "mask_hh = (df_hh['gen_pt'] > 1000) & (df_hh['gen_pt'] < 1500) & (np.abs(df_hh['gen_eta']) < 2.4) & (df_hh['ak8_sdmass'] > 90) & (df_hh['ak8_sdmass'] < 140)\n",
    "df_hh = df_hh[mask_hh]\n",
    "df_hh['sample_weight'] = df_hh['rewgt']\n",
    "df_hh['label'] = np.ones((len(df_hh)),dtype=int)\n",
    "\n",
    "# mask qcd outside of fiducial cuts\n",
    "mask_qcd = (df_qcd['gen_pt'] > 1000) & (df_qcd['gen_pt'] < 1500) & (np.abs(df_qcd['gen_eta']) < 2.4) & (df_qcd['ak8_sdmass'] > 90) & (df_qcd['ak8_sdmass'] < 140)\n",
    "df_qcd = df_qcd[mask_qcd]\n",
    "df_qcd['sample_weight'] = df_qcd['genweight']\n",
    "df_qcd['label'] = np.zeros((len(df_qcd)),dtype=int)\n",
    "\n",
    "# concatenate signal and background\n",
    "df = pandas.concat([df_hh,df_qcd])"
   ]
  },
  {
   "cell_type": "markdown",
   "metadata": {},
   "source": [
    "# Plot ROCs\n",
    "Plot the ROC for one of the tagging variables"
   ]
  },
  {
   "cell_type": "code",
   "execution_count": null,
   "metadata": {},
   "outputs": [],
   "source": [
    "import matplotlib.pyplot as plt\n",
    "from sklearn.metrics import roc_curve, auc\n",
    "%matplotlib inline\n",
    "fpr = {}\n",
    "tpr = {}\n",
    "threshold = {}\n",
    "plt.figure()\n",
    "tagger = 'ak8_sdmass'\n",
    "fpr[tagger], tpr[tagger], threshold[tagger] = roc_curve(df['label'], df[tagger], sample_weight=df['sample_weight'])\n",
    "myauc = auc(fpr[tagger], tpr[tagger],reorder=True)\n",
    "plt.plot(tpr[tagger],fpr[tagger],label='%s tagger, AUC = %.3f'%(tagger, myauc))\n",
    "plt.legend(loc='best')\n",
    "plt.semilogy()\n",
    "plt.xlim([0, 1])\n",
    "plt.ylim([1e-4, 1])"
   ]
  },
  {
   "cell_type": "markdown",
   "metadata": {},
   "source": [
    "# Train your own simple tagger\n",
    "Train your own simple tagger with keras"
   ]
  },
  {
   "cell_type": "code",
   "execution_count": null,
   "metadata": {},
   "outputs": [],
   "source": [
    "import keras\n",
    "from keras.models import Model\n",
    "from keras.layers import Input, Activation, Dense\n",
    "\n",
    "inputs = Input(shape=(2,), name = 'input')  \n",
    "x = Dense(5, name = 'dense_1', activation = 'relu')(inputs)\n",
    "outputs = Dense(1, name = 'output', activation='sigmoid')(x)\n",
    "\n",
    "# creae the model\n",
    "model = Model(inputs=inputs, outputs=outputs)\n",
    "# compile the model\n",
    "model.compile(optimizer='adam', loss='binary_crossentropy', metrics=['accuracy'])\n",
    "# print the model summary\n",
    "model.summary()"
   ]
  },
  {
   "cell_type": "code",
   "execution_count": null,
   "metadata": {},
   "outputs": [],
   "source": [
    "x = np.vstack([df['ak8_sdmass'], df['ak8_tau21']]).T\n",
    "print(x.shape)\n",
    "y = df['label']\n",
    "print(y.shape)\n",
    "model.fit(x,y, epochs=1)\n",
    "df['ak8_sdmass_tau21'] = model.predict(x)"
   ]
  },
  {
   "cell_type": "markdown",
   "metadata": {},
   "source": [
    "# Exercises\n",
    " - Exercise 1. Plot all of the taggers on the same ROC curve\n",
    " - Exercise 2. Train your own custom \"traditional\" tagger based on mSD and tau21\n",
    " - Exercise 3. Add your tagger to the ROC curve\n",
    " - Exercise 4. Repeat with a different signal sample (W, Z, or top)"
   ]
  },
  {
   "cell_type": "code",
   "execution_count": null,
   "metadata": {},
   "outputs": [],
   "source": []
  }
 ],
 "metadata": {
  "kernelspec": {
   "display_name": "nanohrt-hats",
   "language": "python",
   "name": "nanohrt-hats"
  },
  "language_info": {
   "codemirror_mode": {
    "name": "ipython",
    "version": 2
   },
   "file_extension": ".py",
   "mimetype": "text/x-python",
   "name": "python",
   "nbconvert_exporter": "python",
   "pygments_lexer": "ipython2",
   "version": "2.7.14+"
  }
 },
 "nbformat": 4,
 "nbformat_minor": 2
}
